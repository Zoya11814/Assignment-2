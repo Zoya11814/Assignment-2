{
 "cells": [
  {
   "cell_type": "markdown",
   "id": "f3590d92",
   "metadata": {},
   "source": [
    "# Constants"
   ]
  },
  {
   "cell_type": "code",
   "execution_count": 1,
   "id": "cd7a6b57",
   "metadata": {},
   "outputs": [
    {
     "name": "stdout",
     "output_type": "stream",
     "text": [
      "Python is Awesome\n"
     ]
    }
   ],
   "source": [
    "x=\"Python\"\n",
    "y=\"is\"\n",
    "z=\"Awesome\"\n",
    "print(x,y,z)"
   ]
  },
  {
   "cell_type": "markdown",
   "id": "d5e8b451",
   "metadata": {},
   "source": [
    "# Variables"
   ]
  },
  {
   "cell_type": "code",
   "execution_count": 3,
   "id": "8ec33428",
   "metadata": {},
   "outputs": [
    {
     "name": "stdout",
     "output_type": "stream",
     "text": [
      "Python is Awesome\n"
     ]
    }
   ],
   "source": [
    "print(x,y,z)"
   ]
  },
  {
   "cell_type": "markdown",
   "id": "84657866",
   "metadata": {},
   "source": [
    "# Numeric Expression"
   ]
  },
  {
   "cell_type": "code",
   "execution_count": null,
   "id": "9ed08174",
   "metadata": {},
   "outputs": [],
   "source": [
    "Addition "
   ]
  },
  {
   "cell_type": "code",
   "execution_count": 4,
   "id": "ae2433e0",
   "metadata": {},
   "outputs": [
    {
     "name": "stdout",
     "output_type": "stream",
     "text": [
      "8\n"
     ]
    }
   ],
   "source": [
    "x=4\n",
    "x=4+x\n",
    "print(x)"
   ]
  },
  {
   "cell_type": "code",
   "execution_count": null,
   "id": "4e9b4984",
   "metadata": {},
   "outputs": [],
   "source": [
    "Substraction "
   ]
  },
  {
   "cell_type": "code",
   "execution_count": 5,
   "id": "f9a7c37c",
   "metadata": {},
   "outputs": [
    {
     "name": "stdout",
     "output_type": "stream",
     "text": [
      "-13\n"
     ]
    }
   ],
   "source": [
    "yy=65\n",
    "x=78\n",
    "print(yy-x)"
   ]
  },
  {
   "cell_type": "code",
   "execution_count": null,
   "id": "e35b57e6",
   "metadata": {},
   "outputs": [],
   "source": [
    "Multiplication"
   ]
  },
  {
   "cell_type": "code",
   "execution_count": 6,
   "id": "b69f5211",
   "metadata": {},
   "outputs": [
    {
     "name": "stdout",
     "output_type": "stream",
     "text": [
      "56\n"
     ]
    }
   ],
   "source": [
    "xx=7*8\n",
    "print(xx)"
   ]
  },
  {
   "cell_type": "code",
   "execution_count": null,
   "id": "b9a5b1fc",
   "metadata": {},
   "outputs": [],
   "source": [
    "Division"
   ]
  },
  {
   "cell_type": "code",
   "execution_count": 7,
   "id": "6710a772",
   "metadata": {},
   "outputs": [
    {
     "name": "stdout",
     "output_type": "stream",
     "text": [
      "0.5\n"
     ]
    }
   ],
   "source": [
    "x=5\n",
    "y=10\n",
    "print(x/y)"
   ]
  },
  {
   "cell_type": "markdown",
   "id": "0dbda527",
   "metadata": {},
   "source": [
    "# Order of Evaluation"
   ]
  },
  {
   "cell_type": "code",
   "execution_count": 8,
   "id": "7593bfeb",
   "metadata": {},
   "outputs": [
    {
     "name": "stdout",
     "output_type": "stream",
     "text": [
      "6.2\n"
     ]
    }
   ],
   "source": [
    "x=1+2*3-4/5\n",
    "print(x)"
   ]
  },
  {
   "cell_type": "markdown",
   "id": "2537912e",
   "metadata": {},
   "source": [
    "# Several Number of Types"
   ]
  },
  {
   "cell_type": "code",
   "execution_count": 9,
   "id": "f9dfa336",
   "metadata": {},
   "outputs": [
    {
     "data": {
      "text/plain": [
       "int"
      ]
     },
     "execution_count": 9,
     "metadata": {},
     "output_type": "execute_result"
    }
   ],
   "source": [
    "x=3\n",
    "type(x)"
   ]
  },
  {
   "cell_type": "code",
   "execution_count": 10,
   "id": "dfd8f2cb",
   "metadata": {},
   "outputs": [
    {
     "data": {
      "text/plain": [
       "str"
      ]
     },
     "execution_count": 10,
     "metadata": {},
     "output_type": "execute_result"
    }
   ],
   "source": [
    "y=\"girls\"\n",
    "type(y)"
   ]
  },
  {
   "cell_type": "code",
   "execution_count": 11,
   "id": "76a7e7b4",
   "metadata": {},
   "outputs": [
    {
     "data": {
      "text/plain": [
       "float"
      ]
     },
     "execution_count": 11,
     "metadata": {},
     "output_type": "execute_result"
    }
   ],
   "source": [
    "z=67.9\n",
    "type(z)"
   ]
  },
  {
   "cell_type": "code",
   "execution_count": 12,
   "id": "df3de42a",
   "metadata": {},
   "outputs": [
    {
     "data": {
      "text/plain": [
       "float"
      ]
     },
     "execution_count": 12,
     "metadata": {},
     "output_type": "execute_result"
    }
   ],
   "source": [
    "temp=78.3\n",
    "type(temp)"
   ]
  },
  {
   "cell_type": "markdown",
   "id": "9191f138",
   "metadata": {},
   "source": [
    "# Type Conversions"
   ]
  },
  {
   "cell_type": "code",
   "execution_count": 13,
   "id": "32c5a24a",
   "metadata": {},
   "outputs": [
    {
     "name": "stdout",
     "output_type": "stream",
     "text": [
      "13.0\n"
     ]
    }
   ],
   "source": [
    "print(float (6) + 7)"
   ]
  },
  {
   "cell_type": "code",
   "execution_count": 14,
   "id": "1038563b",
   "metadata": {},
   "outputs": [
    {
     "name": "stdout",
     "output_type": "stream",
     "text": [
      "15\n"
     ]
    }
   ],
   "source": [
    "print(int (7.8) + 8)"
   ]
  },
  {
   "cell_type": "markdown",
   "id": "97c2edde",
   "metadata": {},
   "source": [
    "# Integar Divison "
   ]
  },
  {
   "cell_type": "code",
   "execution_count": 15,
   "id": "d784de01",
   "metadata": {},
   "outputs": [
    {
     "name": "stdout",
     "output_type": "stream",
     "text": [
      "5.0\n"
     ]
    }
   ],
   "source": [
    "print(10 / 2)"
   ]
  },
  {
   "cell_type": "code",
   "execution_count": 16,
   "id": "4e8fd17d",
   "metadata": {},
   "outputs": [
    {
     "name": "stdout",
     "output_type": "stream",
     "text": [
      "8.0\n"
     ]
    }
   ],
   "source": [
    "print(40/5)"
   ]
  },
  {
   "cell_type": "markdown",
   "id": "0face4f0",
   "metadata": {},
   "source": [
    "# String Conversions"
   ]
  },
  {
   "cell_type": "code",
   "execution_count": 17,
   "id": "f2fe3a3b",
   "metadata": {},
   "outputs": [
    {
     "name": "stdout",
     "output_type": "stream",
     "text": [
      "hello worldw\n",
      "uppercase string: W\n"
     ]
    }
   ],
   "source": [
    "string = input(\"hello world\")\n",
    "uppercase_string = string.upper()\n",
    "print(\"uppercase string:\",uppercase_string)"
   ]
  },
  {
   "cell_type": "code",
   "execution_count": null,
   "id": "20a078d8",
   "metadata": {},
   "outputs": [],
   "source": []
  }
 ],
 "metadata": {
  "kernelspec": {
   "display_name": "Python 3 (ipykernel)",
   "language": "python",
   "name": "python3"
  },
  "language_info": {
   "codemirror_mode": {
    "name": "ipython",
    "version": 3
   },
   "file_extension": ".py",
   "mimetype": "text/x-python",
   "name": "python",
   "nbconvert_exporter": "python",
   "pygments_lexer": "ipython3",
   "version": "3.9.12"
  }
 },
 "nbformat": 4,
 "nbformat_minor": 5
}
