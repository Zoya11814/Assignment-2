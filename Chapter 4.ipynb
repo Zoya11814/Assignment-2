{
 "cells": [
  {
   "cell_type": "markdown",
   "id": "d92bfe73",
   "metadata": {},
   "source": [
    "# Python Function"
   ]
  },
  {
   "cell_type": "code",
   "execution_count": null,
   "id": "994451f2",
   "metadata": {},
   "outputs": [],
   "source": [
    "1. Built-in Functions e.g: print(), float(), int(), input(), type()...\n",
    "2. Functions that we define ourselves.\n",
    "\n",
    "A function is some stored code that we use. A function takes some input and produces output."
   ]
  },
  {
   "cell_type": "markdown",
   "id": "0b18cf96",
   "metadata": {},
   "source": [
    "# Type Conversions"
   ]
  },
  {
   "cell_type": "code",
   "execution_count": 1,
   "id": "20bd5f0d",
   "metadata": {},
   "outputs": [
    {
     "name": "stdout",
     "output_type": "stream",
     "text": [
      "0.99\n"
     ]
    }
   ],
   "source": [
    "print(float(99) / 100)"
   ]
  },
  {
   "cell_type": "code",
   "execution_count": 2,
   "id": "c9abd75e",
   "metadata": {},
   "outputs": [
    {
     "data": {
      "text/plain": [
       "int"
      ]
     },
     "execution_count": 2,
     "metadata": {},
     "output_type": "execute_result"
    }
   ],
   "source": [
    "i=42\n",
    "type(i)"
   ]
  },
  {
   "cell_type": "markdown",
   "id": "06312f52",
   "metadata": {},
   "source": [
    "# String Conversions"
   ]
  },
  {
   "cell_type": "code",
   "execution_count": 3,
   "id": "88a6d3f3",
   "metadata": {},
   "outputs": [
    {
     "data": {
      "text/plain": [
       "str"
      ]
     },
     "execution_count": 3,
     "metadata": {},
     "output_type": "execute_result"
    }
   ],
   "source": [
    "sval='124'\n",
    "type(sval)"
   ]
  },
  {
   "cell_type": "markdown",
   "id": "84087968",
   "metadata": {},
   "source": [
    "# Defination"
   ]
  },
  {
   "cell_type": "code",
   "execution_count": 4,
   "id": "cdd4001d",
   "metadata": {},
   "outputs": [
    {
     "name": "stdout",
     "output_type": "stream",
     "text": [
      "Hello\n"
     ]
    }
   ],
   "source": [
    "x=5\n",
    "print(\"Hello\")\n",
    "def print_lyrics():\n",
    "    print(\"I am a girls, and I'm okay.\")\n",
    "    print(\"I sleep all night and I work all day\")\n",
    "    print('Yo')\n",
    "    print_lyrics()\n",
    "    x=x+2\n",
    "    print(x)"
   ]
  },
  {
   "cell_type": "markdown",
   "id": "1bb420c7",
   "metadata": {},
   "source": [
    "# Arguments"
   ]
  },
  {
   "cell_type": "code",
   "execution_count": 6,
   "id": "ed8db82d",
   "metadata": {},
   "outputs": [],
   "source": [
    "big = max('Hello world')"
   ]
  },
  {
   "cell_type": "code",
   "execution_count": null,
   "id": "634ba4c5",
   "metadata": {},
   "outputs": [],
   "source": []
  }
 ],
 "metadata": {
  "kernelspec": {
   "display_name": "Python 3 (ipykernel)",
   "language": "python",
   "name": "python3"
  },
  "language_info": {
   "codemirror_mode": {
    "name": "ipython",
    "version": 3
   },
   "file_extension": ".py",
   "mimetype": "text/x-python",
   "name": "python",
   "nbconvert_exporter": "python",
   "pygments_lexer": "ipython3",
   "version": "3.9.12"
  }
 },
 "nbformat": 4,
 "nbformat_minor": 5
}
