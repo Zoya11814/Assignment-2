{
 "cells": [
  {
   "cell_type": "markdown",
   "id": "ace1a17f",
   "metadata": {},
   "source": [
    "# Conditional Steps"
   ]
  },
  {
   "cell_type": "code",
   "execution_count": 9,
   "id": "38ed4bf3",
   "metadata": {},
   "outputs": [
    {
     "name": "stdout",
     "output_type": "stream",
     "text": [
      "Five is greater than two\n"
     ]
    }
   ],
   "source": [
    "if 5>2 :\n",
    "    print('Five is greater than two')"
   ]
  },
  {
   "cell_type": "code",
   "execution_count": 10,
   "id": "3b57806d",
   "metadata": {},
   "outputs": [
    {
     "name": "stdout",
     "output_type": "stream",
     "text": [
      "1\n",
      "2\n"
     ]
    }
   ],
   "source": [
    "a=1\n",
    "b=2\n",
    "if a==1:\n",
    "    print(a)\n",
    "    if b==2:\n",
    "        print(b)"
   ]
  },
  {
   "cell_type": "code",
   "execution_count": 11,
   "id": "9752f05c",
   "metadata": {},
   "outputs": [
    {
     "name": "stdout",
     "output_type": "stream",
     "text": [
      "Smaller\n"
     ]
    }
   ],
   "source": [
    "x=5\n",
    "if x<10:\n",
    "    print('Smaller')\n",
    "    if x>20:\n",
    "        print('Greater')"
   ]
  },
  {
   "cell_type": "markdown",
   "id": "8a0aca28",
   "metadata": {},
   "source": [
    "# Comparison Operator"
   ]
  },
  {
   "cell_type": "code",
   "execution_count": 12,
   "id": "dabb6622",
   "metadata": {},
   "outputs": [
    {
     "name": "stdout",
     "output_type": "stream",
     "text": [
      "Equals 5\n"
     ]
    }
   ],
   "source": [
    "x=5\n",
    "if x==5:\n",
    "    print('Equals 5')"
   ]
  },
  {
   "cell_type": "code",
   "execution_count": 13,
   "id": "9d7387e0",
   "metadata": {},
   "outputs": [
    {
     "name": "stdout",
     "output_type": "stream",
     "text": [
      "Greater than four\n"
     ]
    }
   ],
   "source": [
    "if x>4:\n",
    "    print('Greater than four')"
   ]
  },
  {
   "cell_type": "code",
   "execution_count": 14,
   "id": "143b5469",
   "metadata": {},
   "outputs": [
    {
     "name": "stdout",
     "output_type": "stream",
     "text": [
      "Greater than or equals to five\n"
     ]
    }
   ],
   "source": [
    "if x>=5:\n",
    "    print('Greater than or equals to five')"
   ]
  },
  {
   "cell_type": "code",
   "execution_count": 16,
   "id": "44342253",
   "metadata": {},
   "outputs": [
    {
     "name": "stdout",
     "output_type": "stream",
     "text": [
      "Less than 6\n"
     ]
    }
   ],
   "source": [
    "if x<6:\n",
    "    print('Less than 6')"
   ]
  },
  {
   "cell_type": "code",
   "execution_count": 17,
   "id": "11427c62",
   "metadata": {},
   "outputs": [
    {
     "name": "stdout",
     "output_type": "stream",
     "text": [
      "Not equals 9\n"
     ]
    }
   ],
   "source": [
    "if x!=9:\n",
    "    print('Not equals 9')"
   ]
  },
  {
   "cell_type": "markdown",
   "id": "ce579013",
   "metadata": {},
   "source": [
    "# Nested Decisions"
   ]
  },
  {
   "cell_type": "code",
   "execution_count": 18,
   "id": "c74e7486",
   "metadata": {},
   "outputs": [
    {
     "name": "stdout",
     "output_type": "stream",
     "text": [
      "More than one\n",
      "Less than 100\n"
     ]
    }
   ],
   "source": [
    "x=42\n",
    "if x>1:\n",
    "    print('More than one')\n",
    "    if x<100:\n",
    "        print('Less than 100')\n",
    "        "
   ]
  },
  {
   "cell_type": "markdown",
   "id": "2bb936be",
   "metadata": {},
   "source": [
    "# Two- Way Decision"
   ]
  },
  {
   "cell_type": "code",
   "execution_count": 23,
   "id": "7e8ed5d4",
   "metadata": {},
   "outputs": [
    {
     "ename": "IndentationError",
     "evalue": "unexpected indent (3862247840.py, line 4)",
     "output_type": "error",
     "traceback": [
      "\u001b[1;36m  Input \u001b[1;32mIn [23]\u001b[1;36m\u001b[0m\n\u001b[1;33m    else\u001b[0m\n\u001b[1;37m    ^\u001b[0m\n\u001b[1;31mIndentationError\u001b[0m\u001b[1;31m:\u001b[0m unexpected indent\n"
     ]
    }
   ],
   "source": [
    "x=5\n",
    "if x>2:\n",
    "    print('Bigger')\n",
    "          else\n",
    "          print('Smaller')"
   ]
  },
  {
   "cell_type": "markdown",
   "id": "a8e9d096",
   "metadata": {},
   "source": [
    "# Multi-Way Conditional"
   ]
  },
  {
   "cell_type": "code",
   "execution_count": 24,
   "id": "62c7f24d",
   "metadata": {},
   "outputs": [
    {
     "ename": "SyntaxError",
     "evalue": "invalid syntax (3194038348.py, line 4)",
     "output_type": "error",
     "traceback": [
      "\u001b[1;36m  Input \u001b[1;32mIn [24]\u001b[1;36m\u001b[0m\n\u001b[1;33m    clif x<10:\u001b[0m\n\u001b[1;37m         ^\u001b[0m\n\u001b[1;31mSyntaxError\u001b[0m\u001b[1;31m:\u001b[0m invalid syntax\n"
     ]
    }
   ],
   "source": [
    "x=40\n",
    "if x<5:\n",
    "    print('Small')\n",
    "    clif x<10:\n",
    "        print('Medium')\n",
    "        else:\n",
    "            print('Larger')"
   ]
  },
  {
   "cell_type": "code",
   "execution_count": null,
   "id": "5c4e9e07",
   "metadata": {},
   "outputs": [],
   "source": []
  }
 ],
 "metadata": {
  "kernelspec": {
   "display_name": "Python 3 (ipykernel)",
   "language": "python",
   "name": "python3"
  },
  "language_info": {
   "codemirror_mode": {
    "name": "ipython",
    "version": 3
   },
   "file_extension": ".py",
   "mimetype": "text/x-python",
   "name": "python",
   "nbconvert_exporter": "python",
   "pygments_lexer": "ipython3",
   "version": "3.9.12"
  }
 },
 "nbformat": 4,
 "nbformat_minor": 5
}
